{
  "nbformat": 4,
  "nbformat_minor": 0,
  "metadata": {
    "colab": {
      "provenance": [],
      "authorship_tag": "ABX9TyO8ilIPoeQgpRslZiBwhTMb",
      "include_colab_link": true
    },
    "kernelspec": {
      "name": "python3",
      "display_name": "Python 3"
    },
    "language_info": {
      "name": "python"
    }
  },
  "cells": [
    {
      "cell_type": "markdown",
      "metadata": {
        "id": "view-in-github",
        "colab_type": "text"
      },
      "source": [
        "<a href=\"https://colab.research.google.com/github/suji2804/ai-engineer-roadmap/blob/main/NLTK/rulebased_chatbot.ipynb\" target=\"_parent\"><img src=\"https://colab.research.google.com/assets/colab-badge.svg\" alt=\"Open In Colab\"/></a>"
      ]
    },
    {
      "cell_type": "code",
      "execution_count": 3,
      "metadata": {
        "colab": {
          "base_uri": "https://localhost:8080/"
        },
        "id": "xjarASPV8MtP",
        "outputId": "20cfbc39-96ed-4aa8-8522-d4a4335004c5"
      },
      "outputs": [
        {
          "output_type": "stream",
          "name": "stdout",
          "text": [
            "🤖 Chatbot: Hi! I'm Chatty. Type 'exit' to end the chat.\n",
            "You: hi\n",
            "🤖 Chatbot: Hello!\n",
            "You: suji\n",
            "🤖 Chatbot: I'm not sure I understand. Try asking something else!\n",
            "You: thanks\n",
            "🤖 Chatbot: Glad I could help!\n",
            "You: bye\n",
            "🤖 Chatbot: Goodbye!\n",
            "You: exit\n",
            "🤖 Chatbot: Bye! Have a nice day.\n"
          ]
        }
      ],
      "source": [
        "import re\n",
        "import random\n",
        "\n",
        "intents = {\n",
        "    'greeting': {\n",
        "        'patterns': [r'\\bhello\\b', r'\\bhi\\b', r'\\bhey\\b', r'good (morning|evening|afternoon)'],\n",
        "        'responses': ['Hi there!', 'Hello!', 'Hey! How can I assist you?']\n",
        "    },\n",
        "    'farewell': {\n",
        "        'patterns': [r'\\bbye\\b', r'\\bsee you\\b', r'\\bgoodbye\\b', r'\\bfarewell\\b'],\n",
        "        'responses': ['Goodbye!', 'See you soon!', 'Take care!']\n",
        "    },\n",
        "    'thanks': {\n",
        "        'patterns': [r'\\bthank(s| you)\\b', r'\\bthx\\b'],\n",
        "        'responses': ['You’re welcome!', 'Glad I could help!']\n",
        "    },\n",
        "    'faq_name': {\n",
        "        'patterns': [r'what.*your name', r'who are you'],\n",
        "        'responses': ['I’m a chatbot built with Python!', 'You can call me Chatty.']\n",
        "    },\n",
        "    'faq_help': {\n",
        "        'patterns': [r'what.*can you do', r'how can you help me'],\n",
        "        'responses': ['I can answer greetings, farewells, and some FAQs.']\n",
        "    }\n",
        "}\n",
        "\n",
        "def get_response(user_input):\n",
        "    user_input = user_input.lower()\n",
        "    for intent, intent_data in intents.items():\n",
        "        for pattern in intent_data['patterns']:\n",
        "            if re.search(pattern, user_input):\n",
        "                return random.choice(intent_data['responses'])\n",
        "    return \"I'm not sure I understand. Try asking something else!\"\n",
        "\n",
        "print(\"🤖 Chatbot: Hi! I'm Chatty. Type 'exit' to end the chat.\")\n",
        "\n",
        "while True:\n",
        "    user_input = input(\"You: \")\n",
        "    if user_input.lower() == 'exit':\n",
        "        print(\"🤖 Chatbot: Bye! Have a nice day.\")\n",
        "        break\n",
        "    response = get_response(user_input)\n",
        "    print(\"🤖 Chatbot:\", response)\n",
        "\n",
        "\n"
      ]
    }
  ]
}